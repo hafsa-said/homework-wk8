{
 "cells": [
  {
   "cell_type": "code",
   "execution_count": 4,
   "id": "f76df685",
   "metadata": {},
   "outputs": [],
   "source": [
    "import pandas as pd\n",
    "import numpy as np\n",
    "#mod fot statistics\n",
    "import math\n",
    "import statistics\n",
    "from scipy import stats"
   ]
  },
  {
   "cell_type": "code",
   "execution_count": 13,
   "id": "9a2cd591",
   "metadata": {},
   "outputs": [],
   "source": [
    "belize_listings = \"belize_airbnb_listings.csv\"\n",
    "belize_df = pd.read_csv(belize_listings)"
   ]
  },
  {
   "cell_type": "markdown",
   "id": "e8ff3b04",
   "metadata": {},
   "source": [
    "# Arithmetic Mean:\n",
    "The arithmetic mean is the ratio of all observations to the total number of observations in a data set. It is calculated by adding up all the values and dividing the sum by the total number of values."
   ]
  },
  {
   "cell_type": "code",
   "execution_count": 10,
   "id": "53aa7e91",
   "metadata": {},
   "outputs": [
    {
     "data": {
      "text/plain": [
       "357.1022889842632"
      ]
     },
     "execution_count": 10,
     "metadata": {},
     "output_type": "execute_result"
    }
   ],
   "source": [
    "mean_of_price= belize_df['price'].mean()\n",
    "mean_of_price"
   ]
  },
  {
   "cell_type": "markdown",
   "id": "9693dcef",
   "metadata": {},
   "source": [
    "# Geometric Mean:\n",
    "The geometric mean is a non-linear type of average , usually used for growth rates, like population growth or interest rates. It multiplies, instead of adding items. It is calculated by raising the product of a series of numbers to the inverse of the total length of the series."
   ]
  },
  {
   "cell_type": "code",
   "execution_count": 11,
   "id": "cf117a4f",
   "metadata": {},
   "outputs": [
    {
     "data": {
      "text/plain": [
       "234.7347175108817"
      ]
     },
     "execution_count": 11,
     "metadata": {},
     "output_type": "execute_result"
    }
   ],
   "source": [
    "geo_mean_of_price= stats.gmean(belize_df['price'])\n",
    "geo_mean_of_price"
   ]
  },
  {
   "cell_type": "markdown",
   "id": "432d8f4e",
   "metadata": {},
   "source": [
    "# Harmonic Mean:\n",
    "The harmonic is the reciprocal of the average of the reciprocals. Useful for comparing data on different scales. It is calculated by dividing the number of observations by the reciprocal of each number in the series."
   ]
  },
  {
   "cell_type": "code",
   "execution_count": 12,
   "id": "675db060",
   "metadata": {},
   "outputs": [
    {
     "data": {
      "text/plain": [
       "170.99338501026463"
      ]
     },
     "execution_count": 12,
     "metadata": {},
     "output_type": "execute_result"
    }
   ],
   "source": [
    "har_mean_of_price= stats.hmean(belize_df['price'])\n",
    "har_mean_of_price"
   ]
  },
  {
   "cell_type": "code",
   "execution_count": 36,
   "id": "b35717a3",
   "metadata": {},
   "outputs": [
    {
     "name": "stdout",
     "output_type": "stream",
     "text": [
      "['apple', 'banana', 'strawberry']\n"
     ]
    }
   ],
   "source": [
    "my_string=''\n",
    "def sorting(*fruits):\n",
    "    count= 0\n",
    "    global my_string\n",
    "    for fruit in fruits:\n",
    "        my_string= my_string + ' ' + fruits[count]\n",
    "        count +=1\n",
    "    my_string_sorted= sorted(my_string.split())\n",
    "    print(my_string_sorted)\n",
    "    \n",
    "sorting('strawberry', 'apple', 'banana')"
   ]
  },
  {
   "cell_type": "code",
   "execution_count": null,
   "id": "9f9e2199",
   "metadata": {},
   "outputs": [],
   "source": []
  }
 ],
 "metadata": {
  "kernelspec": {
   "display_name": "Python 3 (ipykernel)",
   "language": "python",
   "name": "python3"
  },
  "language_info": {
   "codemirror_mode": {
    "name": "ipython",
    "version": 3
   },
   "file_extension": ".py",
   "mimetype": "text/x-python",
   "name": "python",
   "nbconvert_exporter": "python",
   "pygments_lexer": "ipython3",
   "version": "3.9.7"
  }
 },
 "nbformat": 4,
 "nbformat_minor": 5
}
